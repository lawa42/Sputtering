{
 "cells": [
  {
   "cell_type": "markdown",
   "metadata": {},
   "source": [
    "this is for ipyhton only"
   ]
  },
  {
   "cell_type": "code",
   "execution_count": null,
   "metadata": {
    "collapsed": false
   },
   "outputs": [],
   "source": [
    "%matplotlib inline"
   ]
  },
  {
   "cell_type": "markdown",
   "metadata": {},
   "source": [
    "Lets first import some stuff"
   ]
  },
  {
   "cell_type": "code",
   "execution_count": null,
   "metadata": {
    "collapsed": false
   },
   "outputs": [],
   "source": [
    "# These are imported by Sputter funcs already but it doesn't harm to import tham again\n",
    "import numpy as np\n",
    "import pandas as pd\n",
    "import matplotlib.pyplot as plt\n",
    "from math import log as ln\n",
    "from itertools import cycle # used to create a loopable colormap"
   ]
  },
  {
   "cell_type": "markdown",
   "metadata": {},
   "source": [
    "This defines the location of a file that holds all the atomic data we need. the files holds values fro the calculation of the sputter yield according to Sigmund as weel as Matsunami1984 and Yamamura1996. The latter two modify the calculation in a way that makes it more suitable for litgh ions aka He and Ne."
   ]
  },
  {
   "cell_type": "code",
   "execution_count": null,
   "metadata": {
    "collapsed": false
   },
   "outputs": [],
   "source": [
    "SRIM_ATOM_DATA_FILE=\"ATOMDATA.csv\"\n",
    "SRIM_He_FILE=\"He-30kV-SRIM-sputter-yield.dat\"\n",
    "SRIM_Ne_FILE=\"Ne-30kV-SRIM-sputter-yield.dat\"\n",
    "NA=6.022e23"
   ]
  },
  {
   "cell_type": "markdown",
   "metadata": {},
   "source": [
    "Lets define what we want to calculate\n",
    "=========="
   ]
  },
  {
   "cell_type": "markdown",
   "metadata": {},
   "source": [
    "Projectile\n",
    "----------"
   ]
  },
  {
   "cell_type": "code",
   "execution_count": null,
   "metadata": {
    "collapsed": false
   },
   "outputs": [],
   "source": [
    "Projectile=\"He\""
   ]
  },
  {
   "cell_type": "markdown",
   "metadata": {},
   "source": [
    "Target\n",
    "------"
   ]
  },
  {
   "cell_type": "code",
   "execution_count": null,
   "metadata": {
    "collapsed": false
   },
   "outputs": [],
   "source": [
    "Target=\"Si\""
   ]
  },
  {
   "cell_type": "markdown",
   "metadata": {},
   "source": [
    "Energy\n",
    "------"
   ]
  },
  {
   "cell_type": "code",
   "execution_count": null,
   "metadata": {
    "collapsed": false
   },
   "outputs": [],
   "source": [
    "Energy=25000"
   ]
  },
  {
   "cell_type": "markdown",
   "metadata": {},
   "source": [
    "Surface binding energy\n",
    "-----\n",
    "Use this to fix the surface displacment energy to a fixed value, which is not in the database. If this is set to -1 the tabulated value will be used in all other cases User_SBW will be used instead of the tabulated value."
   ]
  },
  {
   "cell_type": "code",
   "execution_count": null,
   "metadata": {
    "collapsed": true
   },
   "outputs": [],
   "source": [
    "User_SBE=-1"
   ]
  },
  {
   "cell_type": "markdown",
   "metadata": {},
   "source": [
    "Which Sputter model should we use\n",
    "----\n",
    "can be either _Sigmund_, _M84_ or _Y96_"
   ]
  },
  {
   "cell_type": "code",
   "execution_count": null,
   "metadata": {
    "collapsed": false
   },
   "outputs": [],
   "source": [
    "sputter_models=[\"Sigmund\",\"M84\",\"Y96\"]\n",
    "sputter=\"Y96\""
   ]
  },
  {
   "cell_type": "markdown",
   "metadata": {},
   "source": [
    "Reduced nuclear stopping cross section\n",
    "-----\n",
    "We support two model namely Thomas Fermi (_TF_) or Krypton Carbon (_KrC_)"
   ]
  },
  {
   "cell_type": "code",
   "execution_count": null,
   "metadata": {
    "collapsed": false
   },
   "outputs": [],
   "source": [
    "model=\"TF\""
   ]
  },
  {
   "cell_type": "markdown",
   "metadata": {},
   "source": [
    "Lets read in the data"
   ]
  },
  {
   "cell_type": "code",
   "execution_count": null,
   "metadata": {
    "collapsed": false
   },
   "outputs": [],
   "source": [
    "'''\n",
    "Try to read in the datafile as pandas frame\n",
    "'''\n",
    "Atom_props=pd.read_table(SRIM_ATOM_DATA_FILE,delim_whitespace=True)\n",
    "#Atom_props.get_value('He','Natural Mass')"
   ]
  },
  {
   "cell_type": "markdown",
   "metadata": {},
   "source": [
    "More data to read from SRIm simulations so for only for He 30kV"
   ]
  },
  {
   "cell_type": "code",
   "execution_count": null,
   "metadata": {
    "collapsed": false
   },
   "outputs": [],
   "source": [
    "Y_He_srim=pd.read_csv(SRIM_He_FILE,index_col='Ordnungszahl')\n",
    "Y_He_srim['y30_He_srim']=Y_He_srim[' Anzahl Gesputterte']/Y_He_srim[' Anzahl Simulierte']"
   ]
  },
  {
   "cell_type": "markdown",
   "metadata": {},
   "source": [
    "Y_He_srim contains the results of a SRIM simulation of the sputter yield for 30 keV He into the elements. Y_Ne_srim the same data for Ne."
   ]
  },
  {
   "cell_type": "code",
   "execution_count": null,
   "metadata": {
    "collapsed": false
   },
   "outputs": [],
   "source": [
    "Y_Ne_srim=pd.read_csv(SRIM_Ne_FILE,header=None)\n",
    "Y_Ne_srim['y30_Ne_srim']=Y_Ne_srim[1]/Y_Ne_srim[2]"
   ]
  },
  {
   "cell_type": "code",
   "execution_count": null,
   "metadata": {
    "collapsed": false
   },
   "outputs": [],
   "source": [
    "# Lets merge the Ne data from SRIM with the ATOMDATA\n",
    "Atom_props=pd.merge(Atom_props,Y_Ne_srim.drop([1,2],axis=1),left_on='Z',right_on=0)\n",
    "# Next we merge the He data from SRIM and drop the additional column \"0\" thet is left from merging\n",
    "Atom_props=pd.merge(Atom_props,Y_He_srim.drop([' Anzahl Gesputterte',' Anzahl Simulierte'],axis=1),left_on='Z',right_index=True).drop(0,axis=1)"
   ]
  },
  {
   "cell_type": "markdown",
   "metadata": {},
   "source": [
    "All the different values will be computed in functions so we can call them at anytime, and reuse them for making graphs and similar stuff. These functions are defined in a separate file so they can be reused in other projects."
   ]
  },
  {
   "cell_type": "code",
   "execution_count": null,
   "metadata": {
    "collapsed": true
   },
   "outputs": [],
   "source": [
    "%run 'Sputter yield functions.ipynb'"
   ]
  },
  {
   "cell_type": "markdown",
   "metadata": {},
   "source": [
    "All the results\n",
    "==="
   ]
  },
  {
   "cell_type": "code",
   "execution_count": null,
   "metadata": {
    "collapsed": false,
    "scrolled": true
   },
   "outputs": [],
   "source": [
    "print ('for {:s} into {:s} using an energy of {:d} eV.'.format(Projectile, Target, Energy))\n",
    "print ('Y(Sigmund)={:2g}'.format(yE(Projectile,Target,Energy,\"Sigmund\",model)))\n",
    "print ('Y(Matsunami)={:2g}'.format(yE(Projectile,Target,Energy,\"M84\",model)))\n",
    "print ('Y(Yamamura)={:2g}'.format(yE(Projectile,Target,Energy,\"Y96\",model)))\n",
    "print ('For reference we quote the result of the SRIM simulation done at 30 keV')\n",
    "print ('Y(He,30keV)={:2g}'.format(get_Atom_prop(Target,'y30_He_srim')))\n",
    "print ('Y(Ne,30keV)={:2g}'.format(get_Atom_prop(Target,'y30_Ne_srim')))"
   ]
  },
  {
   "cell_type": "markdown",
   "metadata": {},
   "source": [
    "Intermediate results leading to the above numbers:"
   ]
  },
  {
   "cell_type": "code",
   "execution_count": null,
   "metadata": {
    "collapsed": false
   },
   "outputs": [],
   "source": [
    "print ('eps={:3g}'.format(reduced_energy(Projectile,Target,Energy,sputter)))\n",
    "print ('sn=%.3g'%reduced_nuc_stopping_x_section(Projectile,Target,Energy,sputter,model))\n",
    "print ('se=%.3g'%(reduced_elec_stopping_x_section(Projectile,Target,Energy,sputter)))\n",
    "print ('K=%.3g'%(Sn(Projectile,Target,Energy,sputter,model)/reduced_nuc_stopping_x_section(Projectile,Target,Energy,sputter,model)))\n",
    "print ('Sn=%.3g'%(Sn(Projectile,Target,Energy,sputter,model)))\n",
    "print ('a*=%.3g'%(alpha_stern(Projectile,Target,sputter)))\n",
    "if User_SBE==-1:\n",
    "    print ('Us=%.3g'%(get_Atom_prop(Target,'SBE')))\n",
    "else:\n",
    "    print ('Us=%.3g'%(User_SBE))\n",
    "print ('Eth=%.3g'%(eth(Projectile,Target,sputter)))"
   ]
  },
  {
   "cell_type": "markdown",
   "metadata": {},
   "source": [
    "The following variable holds the ions we use for the energy dependent plot of the target material (ziel)."
   ]
  },
  {
   "cell_type": "code",
   "execution_count": null,
   "metadata": {
    "collapsed": false
   },
   "outputs": [],
   "source": [
    "Ion=[\"He\",\"Ne\",\"Ga\"]"
   ]
  },
  {
   "cell_type": "markdown",
   "metadata": {},
   "source": [
    "First we create a plot that shows the sputter yeild for the selected ion (proj) for all possible targets.\n",
    "\n",
    "Create the xaxis i.e. fill it with the atoms where all data ia available"
   ]
  },
  {
   "cell_type": "code",
   "execution_count": null,
   "metadata": {
    "collapsed": false
   },
   "outputs": [],
   "source": [
    "'''\n",
    "Lets calculate the sputter yields for all elements\n",
    "'''\n",
    "\n",
    "\n",
    "for sputter in sputter_models:\n",
    "    Atom_props[\"yE_\"+str(sputter)]=None\n",
    "    for i in Atom_props.index:\n",
    "        if (sputter==\"Y96\")&(Atom_props.ix[i,'SBE']!=0)&(Atom_props.ix[i,'Q96']!=0):\n",
    "            # If we use M84 we have more elements available\n",
    "            # we only calculate for the ones where we do have SBE\n",
    "            Atom_props.ix[i, \"yE_\"+str(sputter)] =yE(str(Projectile),Atom_props.Symbol.iloc[i],Energy,sputter,model)\n",
    "        elif Atom_props.ix[i,'SBE']!=0:\n",
    "            Atom_props.ix[i, \"yE_\"+str(sputter)] =yE(str(Projectile),Atom_props.Symbol.iloc[i],Energy,sputter,model) "
   ]
  },
  {
   "cell_type": "markdown",
   "metadata": {},
   "source": [
    "Lets make a figure that plots the sputter yeild for all elements when proj is used. Several energies are analyzied although the difference is small."
   ]
  },
  {
   "cell_type": "code",
   "execution_count": null,
   "metadata": {
    "collapsed": false
   },
   "outputs": [],
   "source": [
    "cycol = cycle('bgrcmk') # this uses the itertools module to create a loopable colormap\n",
    "\n",
    "# Create the figure and the axes object so we loop over all models\n",
    "plt.figure()\n",
    "ax=plt.axes()\n",
    "\n",
    "for sputter in sputter_models:\n",
    "    Atom_props.plot.scatter(x='Z',y=\"yE_\"+str(sputter),color=next(cycol),label=sputter,ax=ax)\n",
    "\n",
    "# Let's also add the srim data\n",
    "Atom_props.plot.line(x='Z',y='y30_He_srim',color=next(cycol),label='30keV He srim',ax=ax)\n",
    "Atom_props.plot.line(x='Z',y='y30_Ne_srim',color=next(cycol),label='30keV Ne srim',ax=ax)\n",
    "\n",
    "# format the plot\n",
    "ax.set_yscale(\"log\", nonposy='clip')\n",
    "plt.axis('tight')\n",
    "plt.legend(loc='upper left')\n",
    "plt.title(str(Energy/1000)+\" keV \"+Projectile)\n",
    "plt.xlabel('Atomimc number [Z]')\n",
    "plt.ylabel('Sputter yield [atoms/ion]')\n",
    "plt.show(ax)\n",
    "#filename=\"YE_\"+Projectile+\"_\"+str(Energy)+\".pdf\"\n",
    "#plt.savefig(filename)"
   ]
  },
  {
   "cell_type": "markdown",
   "metadata": {},
   "source": [
    "\n",
    "\n",
    "Make a new figure for the energy dependent plots"
   ]
  },
  {
   "cell_type": "code",
   "execution_count": null,
   "metadata": {
    "collapsed": false
   },
   "outputs": [],
   "source": [
    "# Specify the starting and end energies\n",
    "E_min=5000\n",
    "E_max=35000\n",
    "# and create an array of logspaced values in this range\n",
    "Energien=np.logspace(np.log10(E_min),np.log10(E_max),10)"
   ]
  },
  {
   "cell_type": "code",
   "execution_count": null,
   "metadata": {
    "collapsed": false
   },
   "outputs": [],
   "source": [
    "plt.figure(2)\n",
    "plt.clf()\n",
    "plt.cla()\n",
    "plt.hold('on')\n",
    "# Lets go and iterate over the various ions and energies\n",
    "j=0\n",
    "for c in range(len(Ion)):\n",
    "    y=[]\n",
    "    for j in range(len(Energien)):\n",
    "        y.append(yE(Ion[c],Target,Energien[j],sputter,model))\n",
    "    plt.loglog(Energien,y,'-',label=Ion[c],nonposy='mask')\n",
    "#Finaly beautify the graph\n",
    "plt.legend(loc='lower right')\n",
    "text=\"Sputteryield of \"+Target+\" using \"+sputter+\" and \"+model\n",
    "plt.title(text)\n",
    "plt.xlabel('Energy [eV]')\n",
    "plt.ylabel('Sputter yield [atoms/ion]')\n",
    "plt.axis('tight')\n",
    "plt.show\n",
    "filename=\"YE_\"+Target+\"_\"+sputter+\"_\"+model+\".pdf\"\n",
    "plt.savefig(filename)"
   ]
  }
 ],
 "metadata": {
  "kernelspec": {
   "display_name": "Python 3",
   "language": "python",
   "name": "python3"
  },
  "language_info": {
   "codemirror_mode": {
    "name": "ipython",
    "version": 3
   },
   "file_extension": ".py",
   "mimetype": "text/x-python",
   "name": "python",
   "nbconvert_exporter": "python",
   "pygments_lexer": "ipython3",
   "version": "3.5.2"
  }
 },
 "nbformat": 4,
 "nbformat_minor": 0
}
