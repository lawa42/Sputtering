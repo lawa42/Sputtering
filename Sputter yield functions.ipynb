{
 "cells": [
  {
   "cell_type": "markdown",
   "metadata": {},
   "source": [
    "This file only defines some functions, but doesn't use them. This file needs to be loaded using the run magic from ipython."
   ]
  },
  {
   "cell_type": "markdown",
   "metadata": {},
   "source": [
    "Lets first import some stuff"
   ]
  },
  {
   "cell_type": "code",
   "execution_count": null,
   "metadata": {
    "collapsed": false
   },
   "outputs": [],
   "source": [
    "import numpy as np\n",
    "import pandas as pd\n",
    "import matplotlib.pyplot as plt\n",
    "from math import log as ln\n",
    "from itertools import cycle # used to create a loopable colormap"
   ]
  },
  {
   "cell_type": "markdown",
   "metadata": {},
   "source": [
    "This defines the location of a file that holds all the atomic data we need. the files holds values fro the calculation of the sputter yield according to Sigmund as weel as Matsunami1984 and Yamamura1996. The latter two modify the calculation in a way that makes it more suitable for litgh ions aka He and Ne."
   ]
  },
  {
   "cell_type": "code",
   "execution_count": null,
   "metadata": {
    "collapsed": false
   },
   "outputs": [],
   "source": [
    "def get_Atom_prop(Atom,Prop):\n",
    "    '''\n",
    "    This is a helper to get certain values from the tables\n",
    "    You can't get the symbol this way\n",
    "    Properties are: 'Z', 'Name', 'MAI Weight', 'MAI Mass', 'M',\n",
    "       'SBE', 'Q84', 'Q96', 'W', 's'\n",
    "    '''\n",
    "    return Atom_props.set_index(['Symbol']).loc[Atom][Prop]\n",
    "    #return Atom_props.get_value(Atom,Prop)"
   ]
  },
  {
   "cell_type": "markdown",
   "metadata": {},
   "source": [
    "All the different values will be computed in functions so we can call them at anytime, and reuse them for making graphs and similar stuff"
   ]
  },
  {
   "cell_type": "markdown",
   "metadata": {},
   "source": [
    "Reduced Energy\n",
    "---\n",
    "The formula for the reduced energy is the same in Y96 and M84. The following is Equ 22 from Y96.\n",
    "$$\\epsilon=\\frac{0.03255}{Z_1Z_2(Z_1^{2/3}+Z_2^{2/3})^{1/2}}\\frac{M_2}{M_1+M_2}$$\n",
    "\n",
    "For Sigmund I reimplement L. Bischoff's BASIC program he uses: $$\\epsilon=\\frac{0.069497M_2aE}{(M_1+M_2)Z_1Z_2}$$\n",
    "where $a=0.469209/(Z_1^{2/3}+Z_2^{2/3})^{1/2}$"
   ]
  },
  {
   "cell_type": "code",
   "execution_count": null,
   "metadata": {
    "collapsed": false
   },
   "outputs": [],
   "source": [
    "def reduced_energy(Projectile,Target,Energy,sputter_model):\n",
    "    '''\n",
    "    Uses equ. 2 from M84\n",
    "    '''\n",
    "    Z1=get_Atom_prop(Projectile,'Z')\n",
    "    Z2=get_Atom_prop(Target,'Z')\n",
    "    M1=get_Atom_prop(Projectile,'M')\n",
    "    M2=get_Atom_prop(Target,'M')\n",
    "    if sputter_model==\"Sigmund\":\n",
    "        a=0.469209/((Z1**(2.0/3.0)+Z2**(2.0/3.0))**(1.0/2.0))\n",
    "        return  (0.069497*M2*a*Energy)/((M1+M2)*Z1*Z2)\n",
    "    else:\n",
    "        # This will be used for Y96 and M84\n",
    "        return 0.03255/(Z1*Z2*(Z1**(2./3)+Z2**(2./3))**0.5)*M2/(M1+M2)*Energy"
   ]
  },
  {
   "cell_type": "markdown",
   "metadata": {},
   "source": [
    "Reduced nuclear stopping cross section $s_n$\n",
    "----\n",
    "Next comes the reduced nuclear stopping cross section. In M84 this is Linhards elastic reduced stopping cross section $$s_n(\\epsilon)=\\frac{3.441\\sqrt{\\epsilon}\\ln(\\epsilon+2.718)}{1+6.355\\sqrt{\\epsilon}+\\epsilon(-1.708+6.882\\sqrt{\\epsilon})}$$ This Thomas Fermi based approach is also used for Sigmund sputtering."
   ]
  },
  {
   "cell_type": "markdown",
   "metadata": {},
   "source": [
    "In Y96 two different expresion for the reduced nuclear stopping power are suggested. ONe is based on the Thomas-Fermi potential and identical to the M84 experssion for $s-n(\\epsilon)$. The other is based on the Kr-C and comes from Eckstein in the wollwoing paper: W. Eckstein, C. Garcia-Rosales, J. Roth, and W. Ot- tenberger, IPP 9/82 (Inst. Plasma Physics, Garching, Germany, 1993)\n",
    "A new swithc is introduced that allows to use the KrC based equation in the calculation.$$s_n^{KrC}(\\epsilon)=\\frac{0.5ln(1+1.2288\\epsilon)}{\\epsilon+0.1728\\sqrt{\\epsilon}+0.008\\epsilon^{0.1504}}$$"
   ]
  },
  {
   "cell_type": "code",
   "execution_count": null,
   "metadata": {
    "collapsed": false
   },
   "outputs": [],
   "source": [
    "def reduced_nuc_stopping_x_section(Projectile,Target,Energy,sputter_model,model):\n",
    "    '''\n",
    "    based on equ. A1 \n",
    "    calcultes reduced_energy(Projectile,Target,Energy)\n",
    "    Depending on the last parameter 'model' we either use a Kr-C based stopping power (model=KrC) or in all other \n",
    "    cases a Thomas-Fermi based approach as used in M84\n",
    "    '''\n",
    "    # lets first calculate the reduced energy\n",
    "    eps=reduced_energy(Projectile,Target,Energy,sputter_model)\n",
    "    # we have two different models. If model is KrC we use the one introduced by Eckstein and mentioned in Y96 \n",
    "    if model==\"KrC\":\n",
    "        return 0.5*ln(1+1.2288*eps)/(eps+0.1728*np.sqrt(eps)+0.0088*eps**0.1504)\n",
    "    # in all other cases we use the M84 Thomas-Fermi model\n",
    "    else:\n",
    "        # This is the Thomas Fermi as given in Y96 and M84 we also use this for Sigmund\n",
    "        return 3.441*np.sqrt(eps)*ln(eps+2.718)/(1+6.355*np.sqrt(eps)+eps*(-1.708+6.882*np.sqrt(eps)))"
   ]
  },
  {
   "cell_type": "markdown",
   "metadata": {},
   "source": [
    "Reduced electronic stopping cross section $s_e=k\\sqrt{\\epsilon}$\n",
    "---\n",
    "The next thing to calculate is the reduced electronic stopping cross section. In M84 this is given by $$s_e=k\\sqrt{\\epsilon}$$ where$$k=0.079\\frac{(M_1+M_2)^{3/2}}{M_1^{3/2}M_2^{1/2}}\\frac{Z_1^{3/2}Z_2^{1/2}}{(Z_1^{2/3}+Z_2^{2/3})^{3/4}}$$.\n",
    "The updated model in Y96 uses the same experssion here."
   ]
  },
  {
   "cell_type": "code",
   "execution_count": null,
   "metadata": {
    "collapsed": false
   },
   "outputs": [],
   "source": [
    "def k(Projectile,Target):\n",
    "    '''\n",
    "    the same expression for k is used in both M84 and Y96.\n",
    "    '''\n",
    "    Z1=get_Atom_prop(Projectile,'Z')#Atoms[1][Atoms[0].index(Projectile)]\n",
    "    Z2=get_Atom_prop(Target,'Z')#Atoms[1][Atoms[0].index(Target)]\n",
    "    M1=get_Atom_prop(Projectile,'M')#Atoms[2][Atoms[0].index(Projectile)]\n",
    "    M2=get_Atom_prop(Target,'M')#Atoms[2][Atoms[0].index(Target)]\n",
    "    return 0.079*((M1+M2)**(3./2))/((M1**(3./2)*M2**(.5)))*((Z1**(2./3)*Z2**(.5))/((Z1**(2./3)+Z2**(2./3))**(3./4)))"
   ]
  },
  {
   "cell_type": "code",
   "execution_count": null,
   "metadata": {
    "collapsed": false
   },
   "outputs": [],
   "source": [
    "def reduced_elec_stopping_x_section(Projectile,Target,Energy,sputter_model):\n",
    "    ''' \n",
    "    based on equ A2 and A3\n",
    "    calcultes reduced_energy(Projectile,Target,Energy) first\n",
    "    '''\n",
    "    return k(Projectile,Target)*np.sqrt(reduced_energy(Projectile,Target,Energy,sputter_model))"
   ]
  },
  {
   "cell_type": "markdown",
   "metadata": {},
   "source": [
    "Nuclear stopping $S_n=Ks_n$\n",
    "----\n",
    "The conversion factor from the elastic reduced stopping corss section $s_n$ to the stopping cross secion $S_n$ $K$ is given by (3) in M84 $$K=\\frac{S_n}{s_n}=8.478\\frac{Z_1Z_2}{(Z_1^{2/3}+Z_2^{2/3})^{1/2}}\\frac{M_1}{M_1+M_2}$$ this than has the unit $eV cm^{2}/10^{15} atoms$. from there we can calculate $S_n$.\n",
    "In Y96 the equation is the same but different units are used ($eVA^2/atom$). As a result for Y96 the value is bigger by a factor 10. This has to be done as other empirical parameters are also in the new unit system.\n",
    "We are not interested in $K$ but $S_n$ so we calculate that one directly from $s_nK$."
   ]
  },
  {
   "cell_type": "code",
   "execution_count": null,
   "metadata": {
    "collapsed": false
   },
   "outputs": [],
   "source": [
    "def Sn(Projectile,Target,Energy,sputter_model,nuc_x_section_model):\n",
    "    '''\n",
    "    Calculats Sn needs the model for the nuclear stopping to calculate the reduced stopping power\n",
    "    '''\n",
    "    Z1=get_Atom_prop(Projectile,'Z')\n",
    "    Z2=get_Atom_prop(Target,'Z')\n",
    "    M1=get_Atom_prop(Projectile,'M')\n",
    "    M2=get_Atom_prop(Target,'M')\n",
    "    if sputter_model==\"Sigmund\":\n",
    "        a=0.469209/((Z1**(2.0/3.0)+Z2**(2.0/3.0))**(1.0/2.0))\n",
    "        return (18.081264*Z1*Z2*M1*reduced_nuc_stopping_x_section(Projectile,Target,Energy,sputter_model,nuc_x_section_model)*a)/(M1+M2)\n",
    "    else:\n",
    "        # We end up here if we use either M84 or Y96\n",
    "        # the first parameter is 84 in Y96 instead of 8 in M84 due to different units used. This is corrected by also changing the Y(E) from 0.042 (Y96) to 0.42 (M84)\n",
    "        return 8.478*Z1*Z2/(Z1**(2./3)+Z2**(2./3))**0.5*M1/(M1+M2)*reduced_nuc_stopping_x_section(Projectile,Target,Energy,sputter_model,nuc_x_section_model)"
   ]
  },
  {
   "cell_type": "markdown",
   "metadata": {},
   "source": [
    "Dimensionless parameter $\\alpha^*$\n",
    "---\n",
    "An expression for $\\alpha^*$ (one of the empirical parameters) is given in equ 4 of M84\n",
    "$$\\alpha^*(M_2/M_1)=0.08+0.164(\\frac{M_2}{M_1})^{0.4}+0.0124(\\frac{M_2}{M_1})^{1.29}$$\n",
    "\n",
    "For Y96 the situation gets more complicated. Depending on the M1/M2 ratio we need to use two different expressions for $\\alpha^*$ (see equ. 17 in Y96).\n",
    "$$\\alpha^*=0.249(M_2/M_1)^{0.56}+0.0035(M_2/M_1)^{1.5}, M1 \\le M2$$ or\n",
    "$$\\alpha^*=0.0875(M_2/M_1)^{-0.15}+0.165(M_2/M_1), M1 \\gt M2$$\n",
    "From L. Bischoff we take $$\\alpha=0.1694+0.4218\\left(\\frac{M_2}{M_1}\\right)+0.0518\\left(\\frac{M_2}{M_1}\\right)^2-0.00926\\left(\\frac{M_2}{M_1}\\right)^3+0.00049\\left(\\frac{M_2}{M_1}\\right)^4$$ for the Sigmund case."
   ]
  },
  {
   "cell_type": "code",
   "execution_count": null,
   "metadata": {
    "collapsed": false
   },
   "outputs": [],
   "source": [
    "def alpha_stern(Projectile,Target,sputter):\n",
    "    '''\n",
    "    based on equ 4\n",
    "    '''\n",
    "    M1=get_Atom_prop(Projectile,'M')\n",
    "    M2=get_Atom_prop(Target,'M')\n",
    "    if sputter == \"M84\":\n",
    "        return 0.08+0.164*(M2/M1)**0.4+0.0145*(M2/M1)**(1.29)\n",
    "    elif sputter == \"Y96\":\n",
    "        if M1 <= M2:\n",
    "            #M1 is smaller than M2 will be the case nearly all the time in our situation\n",
    "            return 0.249*(M2/M1)**0.56+0.0035*(M2/M1)**1.5\n",
    "        else:\n",
    "            # obviously now M1 is larger than M2\n",
    "            return 0.0875*(M2/M1)**-0.15+0.165*(M2/M1)\n",
    "    else:\n",
    "        # seems we need to do Sigmund\n",
    "        X=M2/M1\n",
    "        return 0.1694+(0.04218*X)+(0.0518*(X**2))-(0.00926*(X**3))+(0.00049*(X**4))"
   ]
  },
  {
   "cell_type": "markdown",
   "metadata": {},
   "source": [
    "Empirical parameters\n",
    "==="
   ]
  },
  {
   "cell_type": "markdown",
   "metadata": {},
   "source": [
    "$E_{th}$\n",
    "----\n",
    "\n",
    "Sigmund used the binding energy with out further modification. We wuill use the tabulated values we have for $U_s$. In case of Y96 and M84 the situation is more complex.\n",
    "\n",
    "Equation 5 in M84 gives $$E_{th}=U_s\\left(1.9+3.8(M_2/M_1)^{-1}+0.134(M_2/M_1)^{1.24}\\right)$$ one of the empirical parameters defined in M84. $U_s$ is the sublimation energie and tabullated for many targets.\n",
    "\n",
    "Again for Y96 the situation gets more complex. we use equ 18 and 19 to solve.\n",
    "$$E_{th}=U_s*\\frac{6.7}{\\gamma}, M_1 \\gt M_2$$ or $$E_{th}=U_s*\\frac{1+5.7(M_1/M_2)}{\\gamma}, M1 \\le M2 $$ with $$\\gamma=\\frac{4M_1M_2}{(M_1+M_2)^2}$$"
   ]
  },
  {
   "cell_type": "code",
   "execution_count": null,
   "metadata": {
    "collapsed": false
   },
   "outputs": [],
   "source": [
    "def eth(Projectile,Target,sputter):\n",
    "    '''\n",
    "    based on equ. 5 but aslo needs tabulated values of Us\n",
    "    '''\n",
    "    if User_SBE==-1:\n",
    "        Us=get_Atom_prop(Target,'SBE')#Atoms[3][Atoms[0].index(Target)]\n",
    "    else:\n",
    "        Us=User_SBE\n",
    "    M1=get_Atom_prop(Projectile,'M')\n",
    "    M2=get_Atom_prop(Target,'M')\n",
    "    if sputter == \"M84\":\n",
    "        return Us*(1.9+3.8*(M1/M2)+0.134*(M2/M1)**1.24)\n",
    "    elif sputter == \"Y96\":\n",
    "        gamma=4*M1*M2/(M1+M2)**2\n",
    "        if M1 <= M2:\n",
    "            return Us*(1.0+5.7*(M1/M2))/gamma\n",
    "        else: \n",
    "            return Us*6.7/gamma\n",
    "    else:\n",
    "        #It seems we are using Sigmund. Nothing todo. But we return Us nevertheless\n",
    "        return Us"
   ]
  },
  {
   "cell_type": "markdown",
   "metadata": {},
   "source": [
    "$\\Gamma$\n",
    "---\n",
    "The Y96 model requires one more parameter. $$\\Gamma=\\frac{W(Z_2)}{1+(M_1/7)^3}$$ requires also a tabulated parameter $W(Z_2)$ which has index 6 in the array."
   ]
  },
  {
   "cell_type": "code",
   "execution_count": null,
   "metadata": {
    "collapsed": false
   },
   "outputs": [],
   "source": [
    "def Gamma(Projectile,Target):\n",
    "    '''\n",
    "    from equ. 16 in Y96\n",
    "    '''\n",
    "    return get_Atom_prop(Target,'W')/(1.0+(get_Atom_prop(Projectile,'M')/7.0)**3)"
   ]
  },
  {
   "cell_type": "markdown",
   "metadata": {},
   "source": [
    "Sputteryield\n",
    "====\n",
    "The sputter yield can now be calculated. Depending on model we use different equations. "
   ]
  },
  {
   "cell_type": "markdown",
   "metadata": {},
   "source": [
    "SRIM\n",
    "----\n",
    "SRIM based sputter yields have been calculated for 30keV only but will be geiven as reference below."
   ]
  },
  {
   "cell_type": "markdown",
   "metadata": {},
   "source": [
    "Sigmund\n",
    "----\n",
    "For Sigmund we copy from L. Bischoff $$Y(E)=0.42\\frac{\\alpha{}S_n}{U_s}$$"
   ]
  },
  {
   "cell_type": "markdown",
   "metadata": {},
   "source": [
    "Matsunami\n",
    "---\n",
    "Eq. 1 from M84 $$Y(E)=0.42\\frac{\\alpha^*QKs_n(\\epsilon)}{U_s\\left[1+0.35U_ss_e(\\epsilon)\\right]}\\left[1-(E_{th}/E)^{1/2}\\right]^{2.8}$$ $Q$ can be assumed to be one of no other value is listed. The values in the ATOMDATA file have been set to one. We need to make sure that $E>E_{th}$ otherwise the calculation fails"
   ]
  },
  {
   "cell_type": "markdown",
   "metadata": {},
   "source": [
    "Yamamura\n",
    "----\n",
    "\n",
    "In Y96 a different equation (15) is used. Please be aware that also some of the other equations have changed and correct parameters have to be used to. $$Y(E)=0.042\\frac{Q(Z_2)\\alpha^*(M2/M1)}{U_s}\\frac{S_n(E)}{1+\\Gamma k_e\\epsilon^{0.3}}\\left[1-\\sqrt\\frac{E_{th}}{E}\\right]^s$$\n",
    "The last parameter $s$ is empirical and is either 2.5 or 2.8 for a small set of materials. To be able to provide an estimate we set $s=2.65$ for the remainig materials which have now value assigned in Y96.\n",
    "The equation from Y96 uses different units therefore the prefactor is 0.042 and not 0.42 as in M84. this corresponds to a change in the way $S_n$ is calculated. for the computation according to Y96 the factor 10 has been transfered from $S_n$ to $Y(E)$. As a result the used equations idffer by a factor 10 but give consistent results. Like above $E$ needs to be larger than $E_{th}$ otherwise the calculation fails for obvious reasons."
   ]
  },
  {
   "cell_type": "markdown",
   "metadata": {},
   "source": [
    "$s$ is tabulated only for a few values. Interpreting Y96 I set it to 2.65 for all other cases."
   ]
  },
  {
   "cell_type": "code",
   "execution_count": null,
   "metadata": {
    "collapsed": false
   },
   "outputs": [],
   "source": [
    "def yE(Projectile,Target,Energy,sputter,model):\n",
    "    '''\n",
    "    Equ. 1\n",
    "    the first three parameters are straight forward. th elast one switches between different models for the Sputteryield \n",
    "    calculation. If model is M84 the calculation is based on that paper. Y96 uses the newer version.\n",
    "    the same holds for the xsection_model. See reduced_nuc_stopping_x_section() for details.\n",
    "    '''\n",
    "    if User_SBE==-1:\n",
    "        Us=get_Atom_prop(Target,'SBE')#Atoms[3][Atoms[0].index(Target)]\n",
    "    else:\n",
    "        Us=User_SBE\n",
    "    Q84=get_Atom_prop(Target,'Q84')\n",
    "    Q96=get_Atom_prop(Target,'Q96')\n",
    "    s=get_Atom_prop(Target,'s')#Atoms[7][Atoms[0].index(Target)]\n",
    "    if s==0:\n",
    "        s=2.65\n",
    "    if sputter==\"M84\":\n",
    "        if Energy>eth(Projectile,Target,sputter): # Otherwise we try to get the sqrt of a negative number\n",
    "            return (0.42*(alpha_stern(Projectile,Target,sputter)*Q84*Sn(Projectile,Target,Energy,sputter,model))/(Us*(1+0.35*Us*reduced_elec_stopping_x_section(Projectile,Target,Energy,sputter)))*(1-(eth(Projectile,Target,sputter)/Energy)**(0.5))**(2.8))\n",
    "        else:\n",
    "            return 0\n",
    "    elif sputter==\"Y96\":\n",
    "        if Energy>eth(Projectile,Target,sputter): # Otherwise we try to get the sqrt of a negative number\n",
    "            return ((0.42*Q96*alpha_stern(Projectile,Target,sputter)*Sn(Projectile,Target,Energy,sputter,model))/(Us*(1.0+(Gamma(Projectile,Target)*k(Projectile,Target)*reduced_energy(Projectile,Target,Energy,sputter)**0.3)))*((1-np.sqrt(eth(Projectile,Target,sputter)/Energy))**s))\n",
    "        else:\n",
    "            return 0\n",
    "    elif sputter==\"Sigmund\":\n",
    "        if Energy>Us: # Otherwise we try to get the sqrt of a negative number\n",
    "            return 0.42*alpha_stern(Projectile,Target,sputter)*Sn(Projectile,Target,Energy,sputter,model)/Us\n",
    "        else: \n",
    "            return 0\n",
    "    else:\n",
    "        print(\"No or invalid model selected. Can only be M84 or Y96.\")\n",
    "        return 0"
   ]
  }
 ],
 "metadata": {
  "kernelspec": {
   "display_name": "Python 3",
   "language": "python",
   "name": "python3"
  },
  "language_info": {
   "codemirror_mode": {
    "name": "ipython",
    "version": 3
   },
   "file_extension": ".py",
   "mimetype": "text/x-python",
   "name": "python",
   "nbconvert_exporter": "python",
   "pygments_lexer": "ipython3",
   "version": "3.5.2"
  }
 },
 "nbformat": 4,
 "nbformat_minor": 0
}
